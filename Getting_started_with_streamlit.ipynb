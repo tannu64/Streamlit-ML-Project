{
  "nbformat": 4,
  "nbformat_minor": 0,
  "metadata": {
    "colab": {
      "provenance": [],
      "authorship_tag": "ABX9TyPfAdfHpnWs0ql9dKOj1fRE",
      "include_colab_link": true
    },
    "kernelspec": {
      "name": "python3",
      "display_name": "Python 3"
    },
    "language_info": {
      "name": "python"
    }
  },
  "cells": [
    {
      "cell_type": "markdown",
      "metadata": {
        "id": "view-in-github",
        "colab_type": "text"
      },
      "source": [
        "<a href=\"https://colab.research.google.com/github/tannu64/Streamlit-ML-Project/blob/main/Getting_started_with_streamlit.ipynb\" target=\"_parent\"><img src=\"https://colab.research.google.com/assets/colab-badge.svg\" alt=\"Open In Colab\"/></a>"
      ]
    },
    {
      "cell_type": "code",
      "execution_count": 54,
      "metadata": {
        "colab": {
          "base_uri": "https://localhost:8080/"
        },
        "id": "hH53GD5Bspk4",
        "outputId": "6755fa0a-fde3-4420-8817-8d5e0332ab83"
      },
      "outputs": [
        {
          "output_type": "stream",
          "name": "stdout",
          "text": [
            "Requirement already satisfied: streamlit in /usr/local/lib/python3.10/dist-packages (1.41.1)\n",
            "Requirement already satisfied: ngrok in /usr/local/lib/python3.10/dist-packages (1.4.0)\n",
            "Requirement already satisfied: altair<6,>=4.0 in /usr/local/lib/python3.10/dist-packages (from streamlit) (5.5.0)\n",
            "Requirement already satisfied: blinker<2,>=1.0.0 in /usr/local/lib/python3.10/dist-packages (from streamlit) (1.9.0)\n",
            "Requirement already satisfied: cachetools<6,>=4.0 in /usr/local/lib/python3.10/dist-packages (from streamlit) (5.5.0)\n",
            "Requirement already satisfied: click<9,>=7.0 in /usr/local/lib/python3.10/dist-packages (from streamlit) (8.1.7)\n",
            "Requirement already satisfied: numpy<3,>=1.23 in /usr/local/lib/python3.10/dist-packages (from streamlit) (1.26.4)\n",
            "Requirement already satisfied: packaging<25,>=20 in /usr/local/lib/python3.10/dist-packages (from streamlit) (24.2)\n",
            "Requirement already satisfied: pandas<3,>=1.4.0 in /usr/local/lib/python3.10/dist-packages (from streamlit) (2.2.2)\n",
            "Requirement already satisfied: pillow<12,>=7.1.0 in /usr/local/lib/python3.10/dist-packages (from streamlit) (11.0.0)\n",
            "Requirement already satisfied: protobuf<6,>=3.20 in /usr/local/lib/python3.10/dist-packages (from streamlit) (4.25.5)\n",
            "Requirement already satisfied: pyarrow>=7.0 in /usr/local/lib/python3.10/dist-packages (from streamlit) (17.0.0)\n",
            "Requirement already satisfied: requests<3,>=2.27 in /usr/local/lib/python3.10/dist-packages (from streamlit) (2.32.3)\n",
            "Requirement already satisfied: rich<14,>=10.14.0 in /usr/local/lib/python3.10/dist-packages (from streamlit) (13.9.4)\n",
            "Requirement already satisfied: tenacity<10,>=8.1.0 in /usr/local/lib/python3.10/dist-packages (from streamlit) (9.0.0)\n",
            "Requirement already satisfied: toml<2,>=0.10.1 in /usr/local/lib/python3.10/dist-packages (from streamlit) (0.10.2)\n",
            "Requirement already satisfied: typing-extensions<5,>=4.3.0 in /usr/local/lib/python3.10/dist-packages (from streamlit) (4.12.2)\n",
            "Requirement already satisfied: watchdog<7,>=2.1.5 in /usr/local/lib/python3.10/dist-packages (from streamlit) (6.0.0)\n",
            "Requirement already satisfied: gitpython!=3.1.19,<4,>=3.0.7 in /usr/local/lib/python3.10/dist-packages (from streamlit) (3.1.43)\n",
            "Requirement already satisfied: pydeck<1,>=0.8.0b4 in /usr/local/lib/python3.10/dist-packages (from streamlit) (0.9.1)\n",
            "Requirement already satisfied: tornado<7,>=6.0.3 in /usr/local/lib/python3.10/dist-packages (from streamlit) (6.3.3)\n",
            "Requirement already satisfied: jinja2 in /usr/local/lib/python3.10/dist-packages (from altair<6,>=4.0->streamlit) (3.1.4)\n",
            "Requirement already satisfied: jsonschema>=3.0 in /usr/local/lib/python3.10/dist-packages (from altair<6,>=4.0->streamlit) (4.23.0)\n",
            "Requirement already satisfied: narwhals>=1.14.2 in /usr/local/lib/python3.10/dist-packages (from altair<6,>=4.0->streamlit) (1.18.4)\n",
            "Requirement already satisfied: gitdb<5,>=4.0.1 in /usr/local/lib/python3.10/dist-packages (from gitpython!=3.1.19,<4,>=3.0.7->streamlit) (4.0.11)\n",
            "Requirement already satisfied: python-dateutil>=2.8.2 in /usr/local/lib/python3.10/dist-packages (from pandas<3,>=1.4.0->streamlit) (2.8.2)\n",
            "Requirement already satisfied: pytz>=2020.1 in /usr/local/lib/python3.10/dist-packages (from pandas<3,>=1.4.0->streamlit) (2024.2)\n",
            "Requirement already satisfied: tzdata>=2022.7 in /usr/local/lib/python3.10/dist-packages (from pandas<3,>=1.4.0->streamlit) (2024.2)\n",
            "Requirement already satisfied: charset-normalizer<4,>=2 in /usr/local/lib/python3.10/dist-packages (from requests<3,>=2.27->streamlit) (3.4.0)\n",
            "Requirement already satisfied: idna<4,>=2.5 in /usr/local/lib/python3.10/dist-packages (from requests<3,>=2.27->streamlit) (3.10)\n",
            "Requirement already satisfied: urllib3<3,>=1.21.1 in /usr/local/lib/python3.10/dist-packages (from requests<3,>=2.27->streamlit) (2.2.3)\n",
            "Requirement already satisfied: certifi>=2017.4.17 in /usr/local/lib/python3.10/dist-packages (from requests<3,>=2.27->streamlit) (2024.12.14)\n",
            "Requirement already satisfied: markdown-it-py>=2.2.0 in /usr/local/lib/python3.10/dist-packages (from rich<14,>=10.14.0->streamlit) (3.0.0)\n",
            "Requirement already satisfied: pygments<3.0.0,>=2.13.0 in /usr/local/lib/python3.10/dist-packages (from rich<14,>=10.14.0->streamlit) (2.18.0)\n",
            "Requirement already satisfied: smmap<6,>=3.0.1 in /usr/local/lib/python3.10/dist-packages (from gitdb<5,>=4.0.1->gitpython!=3.1.19,<4,>=3.0.7->streamlit) (5.0.1)\n",
            "Requirement already satisfied: MarkupSafe>=2.0 in /usr/local/lib/python3.10/dist-packages (from jinja2->altair<6,>=4.0->streamlit) (3.0.2)\n",
            "Requirement already satisfied: attrs>=22.2.0 in /usr/local/lib/python3.10/dist-packages (from jsonschema>=3.0->altair<6,>=4.0->streamlit) (24.3.0)\n",
            "Requirement already satisfied: jsonschema-specifications>=2023.03.6 in /usr/local/lib/python3.10/dist-packages (from jsonschema>=3.0->altair<6,>=4.0->streamlit) (2024.10.1)\n",
            "Requirement already satisfied: referencing>=0.28.4 in /usr/local/lib/python3.10/dist-packages (from jsonschema>=3.0->altair<6,>=4.0->streamlit) (0.35.1)\n",
            "Requirement already satisfied: rpds-py>=0.7.1 in /usr/local/lib/python3.10/dist-packages (from jsonschema>=3.0->altair<6,>=4.0->streamlit) (0.22.3)\n",
            "Requirement already satisfied: mdurl~=0.1 in /usr/local/lib/python3.10/dist-packages (from markdown-it-py>=2.2.0->rich<14,>=10.14.0->streamlit) (0.1.2)\n",
            "Requirement already satisfied: six>=1.5 in /usr/local/lib/python3.10/dist-packages (from python-dateutil>=2.8.2->pandas<3,>=1.4.0->streamlit) (1.17.0)\n"
          ]
        }
      ],
      "source": [
        "!pip install streamlit ngrok\n"
      ]
    },
    {
      "cell_type": "code",
      "source": [
        "!pip install pyngrok\n"
      ],
      "metadata": {
        "colab": {
          "base_uri": "https://localhost:8080/"
        },
        "id": "UftcX8u1tXPH",
        "outputId": "08ca88ea-1b26-461b-92b0-5a7ee2d715ac"
      },
      "execution_count": 55,
      "outputs": [
        {
          "output_type": "stream",
          "name": "stdout",
          "text": [
            "Requirement already satisfied: pyngrok in /usr/local/lib/python3.10/dist-packages (7.2.2)\n",
            "Requirement already satisfied: PyYAML>=5.1 in /usr/local/lib/python3.10/dist-packages (from pyngrok) (6.0.2)\n"
          ]
        }
      ]
    },
    {
      "cell_type": "code",
      "source": [
        "from pyngrok import ngrok\n",
        "\n",
        "# Authenticate ngrok with your token\n",
        "ngrok.set_auth_token(\"authentication token\")\n"
      ],
      "metadata": {
        "id": "zpHzXnvetKjf"
      },
      "execution_count": 56,
      "outputs": []
    },
    {
      "cell_type": "code",
      "source": [
        "import streamlit as st\n",
        "\n",
        "# Set page config\n",
        "st.set_page_config(\n",
        "    page_title=\"Streamlit Web App in Colab\",\n",
        "    page_icon=\"🌐\",\n",
        "    layout=\"wide\",\n",
        "    initial_sidebar_state=\"expanded\",\n",
        ")\n",
        "\n",
        "# Header Section\n",
        "st.title(\"🌟 Streamlit in Google Colab 🌟\")\n",
        "st.markdown(\"**Welcome to a visually enhanced Streamlit app running in Google Colab!**\")\n",
        "\n",
        "# Sidebar for Navigation\n",
        "st.sidebar.title(\"Navigation\")\n",
        "options = st.sidebar.radio(\"Go to:\", [\"Home\", \"About\", \"Contact\"])\n",
        "\n",
        "if options == \"Home\":\n",
        "    # Home Section\n",
        "    st.header(\"🏠 Home Page\")\n",
        "    st.markdown(\n",
        "        \"\"\"\n",
        "        This app demonstrates how to use **Streamlit** in **Google Colab** with added features:\n",
        "        - Dynamic charts and data visualization.\n",
        "        - User input forms.\n",
        "        - Interactive widgets.\n",
        "        \"\"\"\n",
        "    )\n",
        "\n",
        "    # Input Form\n",
        "    with st.form(\"Input Form\"):\n",
        "        name = st.text_input(\"Enter your name:\")\n",
        "        age = st.slider(\"Select your age:\", 10, 80, 25)\n",
        "        feedback = st.text_area(\"Provide your feedback:\")\n",
        "        submitted = st.form_submit_button(\"Submit\")\n",
        "        if submitted:\n",
        "            st.success(f\"Thank you, {name}! 🎉\")\n",
        "            st.write(f\"Age: {age}\")\n",
        "            st.write(f\"Feedback: {feedback}\")\n",
        "\n",
        "    # Data Visualization\n",
        "    st.subheader(\"📊 Data Visualization\")\n",
        "    import pandas as pd\n",
        "    import altair as alt\n",
        "\n",
        "    # Sample DataFrame\n",
        "    data = pd.DataFrame({\n",
        "        \"Category\": [\"A\", \"B\", \"C\", \"D\"],\n",
        "        \"Values\": [10, 23, 45, 15],\n",
        "    })\n",
        "\n",
        "    # Altair Chart\n",
        "    chart = alt.Chart(data).mark_bar().encode(\n",
        "        x=\"Category\",\n",
        "        y=\"Values\",\n",
        "        tooltip=[\"Category\", \"Values\"],\n",
        "    )\n",
        "    st.altair_chart(chart, use_container_width=True)\n",
        "\n",
        "elif options == \"About\":\n",
        "    # About Section\n",
        "    st.header(\"📄 About\")\n",
        "    st.markdown(\n",
        "        \"\"\"\n",
        "        **Streamlit** is a Python-based framework for building interactive web apps.\n",
        "        - Ideal for machine learning models and data dashboards.\n",
        "        - This app runs seamlessly in Google Colab!\n",
        "        \"\"\"\n",
        "    )\n",
        "\n",
        "elif options == \"Contact\":\n",
        "    # Contact Section\n",
        "    st.header(\"📬 Contact\")\n",
        "    st.markdown(\n",
        "        \"\"\"\n",
        "        - **Email**: example@example.com\n",
        "        - **GitHub**: [Visit Repository](https://github.com)\n",
        "        - **LinkedIn**: [Connect](https://linkedin.com)\n",
        "        \"\"\"\n",
        "    )\n",
        "\n",
        "    # Feedback Form\n",
        "    st.text_input(\"Your Email\")\n",
        "    st.text_area(\"Your Message\")\n",
        "    if st.button(\"Send Message\"):\n",
        "        st.success(\"Message sent successfully! 📧\")\n",
        "\n",
        "# Footer\n",
        "st.markdown(\"---\")\n",
        "st.markdown(\"Made with ❤️ using **Streamlit**\")\n"
      ],
      "metadata": {
        "colab": {
          "base_uri": "https://localhost:8080/"
        },
        "id": "3JbnxmI6t2ZV",
        "outputId": "03b5cd70-9e62-441a-c144-243317af8646"
      },
      "execution_count": 57,
      "outputs": [
        {
          "output_type": "stream",
          "name": "stderr",
          "text": [
            "2024-12-26 12:54:06.235 Thread 'MainThread': missing ScriptRunContext! This warning can be ignored when running in bare mode.\n",
            "2024-12-26 12:54:06.241 Thread 'MainThread': missing ScriptRunContext! This warning can be ignored when running in bare mode.\n",
            "2024-12-26 12:54:06.251 Thread 'MainThread': missing ScriptRunContext! This warning can be ignored when running in bare mode.\n",
            "2024-12-26 12:54:06.257 Thread 'MainThread': missing ScriptRunContext! This warning can be ignored when running in bare mode.\n",
            "2024-12-26 12:54:06.263 Thread 'MainThread': missing ScriptRunContext! This warning can be ignored when running in bare mode.\n",
            "2024-12-26 12:54:06.266 Thread 'MainThread': missing ScriptRunContext! This warning can be ignored when running in bare mode.\n",
            "2024-12-26 12:54:06.270 Thread 'MainThread': missing ScriptRunContext! This warning can be ignored when running in bare mode.\n",
            "2024-12-26 12:54:06.275 Thread 'MainThread': missing ScriptRunContext! This warning can be ignored when running in bare mode.\n",
            "2024-12-26 12:54:06.282 Thread 'MainThread': missing ScriptRunContext! This warning can be ignored when running in bare mode.\n",
            "2024-12-26 12:54:06.286 Thread 'MainThread': missing ScriptRunContext! This warning can be ignored when running in bare mode.\n",
            "2024-12-26 12:54:06.291 Thread 'MainThread': missing ScriptRunContext! This warning can be ignored when running in bare mode.\n",
            "2024-12-26 12:54:06.296 Thread 'MainThread': missing ScriptRunContext! This warning can be ignored when running in bare mode.\n",
            "2024-12-26 12:54:06.301 Thread 'MainThread': missing ScriptRunContext! This warning can be ignored when running in bare mode.\n",
            "2024-12-26 12:54:06.307 Thread 'MainThread': missing ScriptRunContext! This warning can be ignored when running in bare mode.\n",
            "2024-12-26 12:54:06.313 Thread 'MainThread': missing ScriptRunContext! This warning can be ignored when running in bare mode.\n",
            "2024-12-26 12:54:06.318 Thread 'MainThread': missing ScriptRunContext! This warning can be ignored when running in bare mode.\n",
            "2024-12-26 12:54:06.331 Thread 'MainThread': missing ScriptRunContext! This warning can be ignored when running in bare mode.\n",
            "2024-12-26 12:54:06.334 Thread 'MainThread': missing ScriptRunContext! This warning can be ignored when running in bare mode.\n",
            "2024-12-26 12:54:06.339 Thread 'MainThread': missing ScriptRunContext! This warning can be ignored when running in bare mode.\n",
            "2024-12-26 12:54:06.363 Thread 'MainThread': missing ScriptRunContext! This warning can be ignored when running in bare mode.\n",
            "2024-12-26 12:54:06.370 Thread 'MainThread': missing ScriptRunContext! This warning can be ignored when running in bare mode.\n",
            "2024-12-26 12:54:06.387 Thread 'MainThread': missing ScriptRunContext! This warning can be ignored when running in bare mode.\n",
            "2024-12-26 12:54:06.399 Thread 'MainThread': missing ScriptRunContext! This warning can be ignored when running in bare mode.\n",
            "2024-12-26 12:54:06.409 Thread 'MainThread': missing ScriptRunContext! This warning can be ignored when running in bare mode.\n",
            "2024-12-26 12:54:06.444 Thread 'MainThread': missing ScriptRunContext! This warning can be ignored when running in bare mode.\n",
            "2024-12-26 12:54:06.460 Thread 'MainThread': missing ScriptRunContext! This warning can be ignored when running in bare mode.\n",
            "2024-12-26 12:54:06.463 Thread 'MainThread': missing ScriptRunContext! This warning can be ignored when running in bare mode.\n",
            "2024-12-26 12:54:06.484 Thread 'MainThread': missing ScriptRunContext! This warning can be ignored when running in bare mode.\n",
            "2024-12-26 12:54:06.502 Thread 'MainThread': missing ScriptRunContext! This warning can be ignored when running in bare mode.\n",
            "2024-12-26 12:54:06.510 Thread 'MainThread': missing ScriptRunContext! This warning can be ignored when running in bare mode.\n",
            "2024-12-26 12:54:06.518 Thread 'MainThread': missing ScriptRunContext! This warning can be ignored when running in bare mode.\n",
            "2024-12-26 12:54:06.540 Thread 'MainThread': missing ScriptRunContext! This warning can be ignored when running in bare mode.\n",
            "2024-12-26 12:54:06.550 Thread 'MainThread': missing ScriptRunContext! This warning can be ignored when running in bare mode.\n",
            "2024-12-26 12:54:06.572 Thread 'MainThread': missing ScriptRunContext! This warning can be ignored when running in bare mode.\n",
            "2024-12-26 12:54:06.584 Thread 'MainThread': missing ScriptRunContext! This warning can be ignored when running in bare mode.\n",
            "2024-12-26 12:54:06.596 Thread 'MainThread': missing ScriptRunContext! This warning can be ignored when running in bare mode.\n",
            "2024-12-26 12:54:06.607 Thread 'MainThread': missing ScriptRunContext! This warning can be ignored when running in bare mode.\n",
            "2024-12-26 12:54:06.642 Thread 'MainThread': missing ScriptRunContext! This warning can be ignored when running in bare mode.\n",
            "2024-12-26 12:54:06.662 Thread 'MainThread': missing ScriptRunContext! This warning can be ignored when running in bare mode.\n",
            "2024-12-26 12:54:06.669 Thread 'MainThread': missing ScriptRunContext! This warning can be ignored when running in bare mode.\n",
            "2024-12-26 12:54:06.676 Thread 'MainThread': missing ScriptRunContext! This warning can be ignored when running in bare mode.\n",
            "2024-12-26 12:54:06.684 Thread 'MainThread': missing ScriptRunContext! This warning can be ignored when running in bare mode.\n",
            "2024-12-26 12:54:06.693 Thread 'MainThread': missing ScriptRunContext! This warning can be ignored when running in bare mode.\n",
            "2024-12-26 12:54:06.827 Thread 'MainThread': missing ScriptRunContext! This warning can be ignored when running in bare mode.\n",
            "2024-12-26 12:54:06.833 Thread 'MainThread': missing ScriptRunContext! This warning can be ignored when running in bare mode.\n",
            "2024-12-26 12:54:06.839 Thread 'MainThread': missing ScriptRunContext! This warning can be ignored when running in bare mode.\n",
            "2024-12-26 12:54:06.845 Thread 'MainThread': missing ScriptRunContext! This warning can be ignored when running in bare mode.\n",
            "2024-12-26 12:54:06.849 Thread 'MainThread': missing ScriptRunContext! This warning can be ignored when running in bare mode.\n",
            "2024-12-26 12:54:06.852 Thread 'MainThread': missing ScriptRunContext! This warning can be ignored when running in bare mode.\n"
          ]
        },
        {
          "output_type": "execute_result",
          "data": {
            "text/plain": [
              "DeltaGenerator(_form_data=FormData(form_id='Input Form'))"
            ]
          },
          "metadata": {},
          "execution_count": 57
        }
      ]
    },
    {
      "cell_type": "code",
      "source": [
        "from pyngrok import ngrok\n",
        "public_url = ngrok.connect(8501, \"http\")  # Use the same custom port\n",
        "print(f\"Streamlit app is live at: {public_url}\")"
      ],
      "metadata": {
        "colab": {
          "base_uri": "https://localhost:8080/"
        },
        "id": "v1wQQslQxSsI",
        "outputId": "bf5ecec8-7225-4359-edc4-429e3e34aa5e"
      },
      "execution_count": 58,
      "outputs": [
        {
          "output_type": "stream",
          "name": "stdout",
          "text": [
            "Streamlit app is live at: NgrokTunnel: \"https://35a2-34-19-40-216.ngrok-free.app\" -> \"http://localhost:8501\"\n"
          ]
        }
      ]
    },
    {
      "cell_type": "code",
      "source": [
        "# Start the Streamlit server\n",
        "!streamlit run app.py &\n",
        "\n",
        "# Expose the app with ngrok\n",
        "from pyngrok import ngrok\n",
        "public_url = ngrok.connect(8501, \"http\")  # Correct port and protocol\n",
        "print(f\"Streamlit app is live at: {public_url}\")\n"
      ],
      "metadata": {
        "colab": {
          "base_uri": "https://localhost:8080/"
        },
        "id": "CbLr7TNNvAHw",
        "outputId": "b5adb3c0-69c3-4953-de73-c579e6f0d364"
      },
      "execution_count": 59,
      "outputs": [
        {
          "output_type": "stream",
          "name": "stdout",
          "text": [
            "\n",
            "Collecting usage statistics. To deactivate, set browser.gatherUsageStats to false.\n",
            "\u001b[0m\n",
            "\u001b[0m\n",
            "\u001b[34m\u001b[1m  You can now view your Streamlit app in your browser.\u001b[0m\n",
            "\u001b[0m\n",
            "\u001b[34m  Local URL: \u001b[0m\u001b[1mhttp://localhost:8501\u001b[0m\n",
            "\u001b[34m  Network URL: \u001b[0m\u001b[1mhttp://172.28.0.12:8501\u001b[0m\n",
            "\u001b[34m  External URL: \u001b[0m\u001b[1mhttp://34.19.40.216:8501\u001b[0m\n",
            "\u001b[0m\n",
            "\u001b[34m  Stopping...\u001b[0m\n",
            "Streamlit app is live at: NgrokTunnel: \"https://b130-34-19-40-216.ngrok-free.app\" -> \"http://localhost:8501\"\n"
          ]
        }
      ]
    },
    {
      "cell_type": "code",
      "source": [
        "%%writefile app.py\n",
        "import streamlit as st\n",
        "\n",
        "st.set_page_config(page_title=\"Enhanced Streamlit App\", layout=\"wide\")\n",
        "\n",
        "# Header\n",
        "st.title(\"🌟 Enhanced Streamlit App 🌟\")\n",
        "st.write(\"This app demonstrates a better workflow in Google Colab.\")\n",
        "\n",
        "# Sidebar Navigation\n",
        "st.sidebar.title(\"Navigation\")\n",
        "page = st.sidebar.radio(\"Choose a page:\", [\"Home\", \"About\"])\n",
        "\n",
        "if page == \"Home\":\n",
        "    st.header(\"Home Page\")\n",
        "    st.write(\"Welcome to the Home Page!\")\n",
        "    st.text_input(\"Enter your name:\")\n",
        "    st.button(\"Submit\")\n",
        "elif page == \"About\":\n",
        "    st.header(\"About Page\")\n",
        "    st.write(\"This is a demo app to showcase Streamlit in Google Colab.\")\n",
        "\n",
        "# Footer\n",
        "st.markdown(\"---\")\n",
        "st.write(\"Made with ❤️ using Streamlit\")\n",
        "\n"
      ],
      "metadata": {
        "colab": {
          "base_uri": "https://localhost:8080/"
        },
        "id": "CmgxqhsRviTw",
        "outputId": "34cd9d66-eabb-4c76-d9eb-e43d8e2653a6"
      },
      "execution_count": 60,
      "outputs": [
        {
          "output_type": "stream",
          "name": "stdout",
          "text": [
            "Overwriting app.py\n"
          ]
        }
      ]
    },
    {
      "cell_type": "code",
      "source": [
        "%%writefile app.py\n",
        "import streamlit as st\n",
        "import pandas as pd\n",
        "import numpy as np\n",
        "import altair as alt\n",
        "\n",
        "# Page configuration\n",
        "st.set_page_config(\n",
        "    page_title=\"Advanced Streamlit App\",\n",
        "    page_icon=\"🚀\",\n",
        "    layout=\"wide\",\n",
        "    initial_sidebar_state=\"expanded\",\n",
        ")\n",
        "\n",
        "# Sidebar Navigation\n",
        "st.sidebar.title(\"Navigation\")\n",
        "page = st.sidebar.radio(\"Choose a page:\", [\"Home\", \"Visualizations\", \"Upload Files\", \"ML Dashboard\"])\n",
        "\n",
        "# Home Page\n",
        "if page == \"Home\":\n",
        "    st.title(\"🌟 Welcome to the Advanced Streamlit App! 🌟\")\n",
        "    st.write(\"Explore the features: interactive visualizations, file uploads, and machine learning dashboards.\")\n",
        "    st.image(\"https://source.unsplash.com/random/800x400\", caption=\"Streamlit is Awesome!\", use_column_width=True)\n",
        "\n",
        "# Visualization Page\n",
        "elif page == \"Visualizations\":\n",
        "    st.title(\"📊 Data Visualizations\")\n",
        "    st.write(\"Generate random data and visualize it interactively.\")\n",
        "\n",
        "    # Generate Random Data\n",
        "    data = pd.DataFrame(\n",
        "        np.random.randn(100, 3),\n",
        "        columns=[\"A\", \"B\", \"C\"]\n",
        "    )\n",
        "\n",
        "    st.write(\"### Data Table\")\n",
        "    st.dataframe(data)\n",
        "\n",
        "    st.write(\"### Line Chart\")\n",
        "    st.line_chart(data)\n",
        "\n",
        "    st.write(\"### Bar Chart\")\n",
        "    st.bar_chart(data)\n",
        "\n",
        "    st.write(\"### Altair Scatter Plot\")\n",
        "    scatter = alt.Chart(data).mark_circle(size=60).encode(\n",
        "        x=\"A\",\n",
        "        y=\"B\",\n",
        "        color=\"C\",\n",
        "        tooltip=[\"A\", \"B\", \"C\"]\n",
        "    ).interactive()\n",
        "    st.altair_chart(scatter, use_container_width=True)\n",
        "\n",
        "# File Upload Page\n",
        "elif page == \"Upload Files\":\n",
        "    st.title(\"📂 File Upload\")\n",
        "    st.write(\"Upload a CSV file to analyze its contents.\")\n",
        "\n",
        "    # File uploader\n",
        "    uploaded_file = st.file_uploader(\"Choose a CSV file\", type=\"csv\")\n",
        "    if uploaded_file is not None:\n",
        "        df = pd.read_csv(uploaded_file)\n",
        "        st.write(\"### Uploaded Data\")\n",
        "        st.dataframe(df)\n",
        "\n",
        "        st.write(\"### Summary Statistics\")\n",
        "        st.write(df.describe())\n",
        "\n",
        "# Machine Learning Dashboard\n",
        "elif page == \"ML Dashboard\":\n",
        "    st.title(\"🤖 Machine Learning Dashboard\")\n",
        "    st.write(\"Simulate a simple machine learning pipeline.\")\n",
        "\n",
        "    # User Input\n",
        "    st.write(\"### Input Features\")\n",
        "    feature1 = st.slider(\"Feature 1\", 0, 100, 50)\n",
        "    feature2 = st.slider(\"Feature 2\", 0, 100, 25)\n",
        "    feature3 = st.slider(\"Feature 3\", 0, 100, 75)\n",
        "\n",
        "    # Display Inputs\n",
        "    input_data = pd.DataFrame(\n",
        "        [[feature1, feature2, feature3]],\n",
        "        columns=[\"Feature 1\", \"Feature 2\", \"Feature 3\"]\n",
        "    )\n",
        "    st.write(\"### Input Data\")\n",
        "    st.dataframe(input_data)\n",
        "\n",
        "    # Simulated Model Output\n",
        "    prediction = feature1 * 0.3 + feature2 * 0.5 + feature3 * 0.2\n",
        "    st.write(\"### Prediction\")\n",
        "    st.success(f\"Predicted Value: {prediction:.2f}\")\n",
        "\n",
        "# Footer\n",
        "st.markdown(\"---\")\n",
        "st.write(\"Made with ❤️ using **Streamlit**\")\n"
      ],
      "metadata": {
        "colab": {
          "base_uri": "https://localhost:8080/"
        },
        "id": "ifKNfN9Uz3tQ",
        "outputId": "2426d13f-07c4-4285-92f1-27aa8b5255d3"
      },
      "execution_count": 61,
      "outputs": [
        {
          "output_type": "stream",
          "name": "stdout",
          "text": [
            "Overwriting app.py\n"
          ]
        }
      ]
    },
    {
      "cell_type": "code",
      "source": [
        "!streamlit run app.py --server.port 8501 &\n"
      ],
      "metadata": {
        "colab": {
          "base_uri": "https://localhost:8080/"
        },
        "id": "_0ntzYtXzFWK",
        "outputId": "a72f0e23-3ca3-4e7a-80b7-6dcc4938b34b"
      },
      "execution_count": 64,
      "outputs": [
        {
          "output_type": "stream",
          "name": "stdout",
          "text": [
            "\n",
            "Collecting usage statistics. To deactivate, set browser.gatherUsageStats to false.\n",
            "\u001b[0m\n",
            "\u001b[0m\n",
            "\u001b[34m\u001b[1m  You can now view your Streamlit app in your browser.\u001b[0m\n",
            "\u001b[0m\n",
            "\u001b[34m  Local URL: \u001b[0m\u001b[1mhttp://localhost:8501\u001b[0m\n",
            "\u001b[34m  Network URL: \u001b[0m\u001b[1mhttp://172.28.0.12:8501\u001b[0m\n",
            "\u001b[34m  External URL: \u001b[0m\u001b[1mhttp://34.19.40.216:8501\u001b[0m\n",
            "\u001b[0m\n",
            "2024-12-26 12:55:53.145 The `use_column_width` parameter has been deprecated and will be removed in a future release. Please utilize the `use_container_width` parameter instead.\n",
            "2024-12-26 12:56:11.901 The `use_column_width` parameter has been deprecated and will be removed in a future release. Please utilize the `use_container_width` parameter instead.\n",
            "\u001b[34m  Stopping...\u001b[0m\n"
          ]
        }
      ]
    },
    {
      "cell_type": "code",
      "source": [
        "import time\n",
        "time.sleep(5)\n"
      ],
      "metadata": {
        "id": "K3905rK5zMmS"
      },
      "execution_count": 62,
      "outputs": []
    },
    {
      "cell_type": "code",
      "source": [
        "from pyngrok import ngrok\n",
        "public_url = ngrok.connect(8501, \"http\")\n",
        "print(f\"Streamlit app is live at: {public_url}\")\n"
      ],
      "metadata": {
        "colab": {
          "base_uri": "https://localhost:8080/"
        },
        "id": "ZJTWrg05zQVS",
        "outputId": "4a4cd8c0-a6c2-4e79-8b7c-57c0ae23b27e"
      },
      "execution_count": 63,
      "outputs": [
        {
          "output_type": "stream",
          "name": "stdout",
          "text": [
            "Streamlit app is live at: NgrokTunnel: \"https://3058-34-19-40-216.ngrok-free.app\" -> \"http://localhost:8501\"\n"
          ]
        }
      ]
    }
  ]
}